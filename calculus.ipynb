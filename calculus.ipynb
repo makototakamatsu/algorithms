{
  "nbformat": 4,
  "nbformat_minor": 0,
  "metadata": {
    "colab": {
      "name": "calculus.ipynb",
      "version": "0.3.2",
      "provenance": []
    },
    "kernelspec": {
      "name": "python3",
      "display_name": "Python 3"
    },
    "accelerator": "GPU"
  },
  "cells": [
    {
      "metadata": {
        "id": "tHmKxWnH6Kx5",
        "colab_type": "text"
      },
      "cell_type": "markdown",
      "source": [
        "微分をpythonでプログラミングする。\n",
        "今回は、$f(x)=2x^2+5x$を計算する"
      ]
    },
    {
      "metadata": {
        "id": "q_OqieK83xYG",
        "colab_type": "code",
        "colab": {}
      },
      "cell_type": "code",
      "source": [
        "def nd(f,x):\n",
        "  h=1e-4\n",
        "  return (f(x+h)-f(x-h))/(2*h)"
      ],
      "execution_count": 0,
      "outputs": []
    },
    {
      "metadata": {
        "id": "mNoDXsKj4GDR",
        "colab_type": "code",
        "colab": {}
      },
      "cell_type": "code",
      "source": [
        "def function_1f(x):\n",
        "  return 2*x**2+5*x"
      ],
      "execution_count": 0,
      "outputs": []
    },
    {
      "metadata": {
        "id": "KHkdnhZP49nY",
        "colab_type": "code",
        "colab": {
          "base_uri": "https://localhost:8080/",
          "height": 361
        },
        "outputId": "1af1c69c-f954-494a-8d03-dd1085d84b98"
      },
      "cell_type": "code",
      "source": [
        "import numpy as np\n",
        "import matplotlib.pyplot as plt\n",
        "\n",
        "x=np.arange(-10.0,10.0,0.1)\n",
        "y=function_1f(x)\n",
        "\n",
        "plt.xlabel('x')\n",
        "plt.ylabel('f(x)')\n",
        "plt.plot(x,y)\n",
        "plt.show()"
      ],
      "execution_count": 5,
      "outputs": [
        {
          "output_type": "display_data",
          "data": {
            "image/png": "[encoded data removed]",
            "text/plain": [
              "<matplotlib.figure.Figure at 0x7f1069c10710>"
            ]
          },
          "metadata": {
            "tags": []
          }
        }
      ]
    },
    {
      "metadata": {
        "id": "rQpzqLe56eu-",
        "colab_type": "text"
      },
      "cell_type": "markdown",
      "source": [
        "$\\frac{df(5)}{dx}=25$より以下の答えは妥当"
      ]
    },
    {
      "metadata": {
        "id": "mLydZ-7K5bDD",
        "colab_type": "code",
        "colab": {
          "base_uri": "https://localhost:8080/",
          "height": 34
        },
        "outputId": "ca79264e-5607-4cd6-b746-6adab54e7953"
      },
      "cell_type": "code",
      "source": [
        "print(nd(function_1f,5))"
      ],
      "execution_count": 6,
      "outputs": [
        {
          "output_type": "stream",
          "text": [
            "24.999999999977263\n"
          ],
          "name": "stdout"
        }
      ]
    },
    {
      "metadata": {
        "id": "Ub9pGmq_54jh",
        "colab_type": "text"
      },
      "cell_type": "markdown",
      "source": [
        "偏微分として以下の式を用いる。$f(x,t)=2x^2+5t^2$\n",
        "\n",
        "---\n",
        "\n",
        "\n",
        "今回は$x=2,t=3$のときの偏微分を考える"
      ]
    },
    {
      "metadata": {
        "id": "pvBt3-eK5uMh",
        "colab_type": "code",
        "colab": {}
      },
      "cell_type": "code",
      "source": [
        "def function_x(x):\n",
        "  return 2*x**2+5*3**2\n",
        "\n",
        "def function_t(t):\n",
        "  return 2*2**2+5*t**2"
      ],
      "execution_count": 0,
      "outputs": []
    },
    {
      "metadata": {
        "id": "lk0VGrzb77vb",
        "colab_type": "code",
        "colab": {
          "base_uri": "https://localhost:8080/",
          "height": 34
        },
        "outputId": "d619c0a8-b1ce-44ef-ada1-0bbafad9f37a"
      },
      "cell_type": "code",
      "source": [
        "nd(function_x,2)"
      ],
      "execution_count": 8,
      "outputs": [
        {
          "output_type": "execute_result",
          "data": {
            "text/plain": [
              "7.999999999981355"
            ]
          },
          "metadata": {
            "tags": []
          },
          "execution_count": 8
        }
      ]
    },
    {
      "metadata": {
        "id": "ZmUoBiEF7_YS",
        "colab_type": "code",
        "colab": {}
      },
      "cell_type": "code",
      "source": [
        ""
      ],
      "execution_count": 0,
      "outputs": []
    }
  ]
}